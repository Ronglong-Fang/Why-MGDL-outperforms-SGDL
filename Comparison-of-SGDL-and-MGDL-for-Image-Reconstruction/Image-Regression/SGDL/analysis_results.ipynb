{
 "cells": [
  {
   "cell_type": "code",
   "execution_count": 1,
   "id": "67820f2e-4217-4dd0-86cf-4d656dfe45d6",
   "metadata": {},
   "outputs": [],
   "source": [
    "from sgdl import analysis\n",
    "import glob\n",
    "%matplotlib inline\n",
    "%load_ext autoreload\n",
    "%autoreload 2"
   ]
  },
  {
   "cell_type": "code",
   "execution_count": 2,
   "id": "77064a76-67f1-44c2-ac54-3a7b1419f9d2",
   "metadata": {},
   "outputs": [
    {
     "name": "stdout",
     "output_type": "stream",
     "text": [
      "0\n",
      "\n",
      "\n",
      "\n",
      "\n"
     ]
    }
   ],
   "source": [
    "path = 'results/*.pickle'\n",
    "\n",
    "picklefile = []\n",
    "for file in glob.glob(path):  \n",
    "    picklefile.append(file)\n",
    "    # print(file)\n",
    "\n",
    "print(len(picklefile))\n",
    "\n",
    "k=5\n",
    "picklefile =sorted(picklefile, key=lambda x: float(x.split('_')[k][len(\"testloss\"):len(\"testloss5.2301e-03\")]), reverse=False)\n",
    "\n",
    "savefilename = True\n",
    "output_txt = f'results/sorted_results.txt'\n",
    "if savefilename:\n",
    "    with open(output_txt, 'w') as f:\n",
    "        for file in picklefile:\n",
    "            f.write(file + '\\n')  #\n",
    "\n",
    "for file in picklefile:\n",
    "    print(file)\n",
    "\n",
    "print('\\n\\n\\n')\n",
    "\n",
    "for file in picklefile:\n",
    "    print(file)\n",
    "    analysis(file)\n",
    "    print('\\n\\n\\n')\n"
   ]
  },
  {
   "cell_type": "code",
   "execution_count": null,
   "id": "3a34283b-df61-4b9d-a942-8628fa020ca9",
   "metadata": {},
   "outputs": [],
   "source": []
  },
  {
   "cell_type": "code",
   "execution_count": null,
   "id": "c56c4f64-c997-41f6-b8ae-71f4d58f296a",
   "metadata": {},
   "outputs": [],
   "source": []
  }
 ],
 "metadata": {
  "kernelspec": {
   "display_name": "mgdl",
   "language": "python",
   "name": "mgdl"
  },
  "language_info": {
   "codemirror_mode": {
    "name": "ipython",
    "version": 3
   },
   "file_extension": ".py",
   "mimetype": "text/x-python",
   "name": "python",
   "nbconvert_exporter": "python",
   "pygments_lexer": "ipython3",
   "version": "3.10.13"
  }
 },
 "nbformat": 4,
 "nbformat_minor": 5
}
