{
 "cells": [
  {
   "cell_type": "code",
   "execution_count": 3,
   "id": "67820f2e-4217-4dd0-86cf-4d656dfe45d6",
   "metadata": {},
   "outputs": [],
   "source": [
    "from mgdl import analysis\n",
    "import glob\n",
    "%matplotlib inline\n",
    "%load_ext autoreload\n",
    "%autoreload 2"
   ]
  },
  {
   "cell_type": "code",
   "execution_count": 4,
   "id": "77064a76-67f1-44c2-ac54-3a7b1419f9d2",
   "metadata": {},
   "outputs": [
    {
     "name": "stdout",
     "output_type": "stream",
     "text": [
      "0\n",
      "\n",
      "\n",
      "\n"
     ]
    },
    {
     "ename": "IndexError",
     "evalue": "list index out of range",
     "output_type": "error",
     "traceback": [
      "\u001b[0;31m---------------------------------------------------------------------------\u001b[0m",
      "\u001b[0;31mIndexError\u001b[0m                                Traceback (most recent call last)",
      "Cell \u001b[0;32mIn[4], line 30\u001b[0m\n\u001b[1;32m     26\u001b[0m \u001b[38;5;28mprint\u001b[39m(\u001b[38;5;124m'\u001b[39m\u001b[38;5;130;01m\\n\u001b[39;00m\u001b[38;5;130;01m\\n\u001b[39;00m\u001b[38;5;124m'\u001b[39m)\n\u001b[1;32m     28\u001b[0m \u001b[38;5;28;01mfor\u001b[39;00m i \u001b[38;5;129;01min\u001b[39;00m \u001b[38;5;28mrange\u001b[39m(\u001b[38;5;241m5\u001b[39m):\n\u001b[0;32m---> 30\u001b[0m     file \u001b[38;5;241m=\u001b[39m \u001b[43mpicklefile\u001b[49m\u001b[43m[\u001b[49m\u001b[43mi\u001b[49m\u001b[43m]\u001b[49m\n\u001b[1;32m     31\u001b[0m     \u001b[38;5;28mprint\u001b[39m(file)\n\u001b[1;32m     32\u001b[0m     analysis(file)\n",
      "\u001b[0;31mIndexError\u001b[0m: list index out of range"
     ]
    }
   ],
   "source": [
    "path = 'results/*.pickle'\n",
    "\n",
    "\n",
    "picklefile = []\n",
    "for file in glob.glob(path):  \n",
    "    picklefile.append(file)\n",
    "    # print(file)\n",
    "\n",
    "print(len(picklefile))\n",
    "\n",
    "k=6\n",
    "picklefile =sorted(picklefile, key=lambda x: float(x.split('_')[k][len(\"testloss\"):len(\"testloss7.39e-03\")]), reverse=False)\n",
    "\n",
    "savefilename = False\n",
    "output_txt = f'results/sorted_results.txt'\n",
    "if savefilename:\n",
    "    with open(output_txt, 'w') as f:\n",
    "        for file in picklefile:\n",
    "            f.write(file + '\\n')  #\n",
    "\n",
    "for file in picklefile:\n",
    "    print(file)\n",
    "\n",
    "print('\\n\\n')\n",
    "\n",
    "for i in range(5):\n",
    "        \n",
    "    file = picklefile[i]\n",
    "    print(file)\n",
    "    analysis(file)"
   ]
  },
  {
   "cell_type": "code",
   "execution_count": null,
   "id": "3a34283b-df61-4b9d-a942-8628fa020ca9",
   "metadata": {},
   "outputs": [],
   "source": []
  },
  {
   "cell_type": "code",
   "execution_count": null,
   "id": "c56c4f64-c997-41f6-b8ae-71f4d58f296a",
   "metadata": {},
   "outputs": [],
   "source": []
  }
 ],
 "metadata": {
  "kernelspec": {
   "display_name": "mgdl",
   "language": "python",
   "name": "mgdl"
  },
  "language_info": {
   "codemirror_mode": {
    "name": "ipython",
    "version": 3
   },
   "file_extension": ".py",
   "mimetype": "text/x-python",
   "name": "python",
   "nbconvert_exporter": "python",
   "pygments_lexer": "ipython3",
   "version": "3.10.13"
  }
 },
 "nbformat": 4,
 "nbformat_minor": 5
}
